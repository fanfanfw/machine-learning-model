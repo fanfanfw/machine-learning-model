{
  "nbformat": 4,
  "nbformat_minor": 0,
  "metadata": {
    "colab": {
      "provenance": [],
      "gpuType": "T4"
    },
    "kernelspec": {
      "name": "python3",
      "display_name": "Python 3"
    },
    "language_info": {
      "name": "python"
    },
    "accelerator": "GPU"
  },
  "cells": [
    {
      "cell_type": "code",
      "execution_count": null,
      "metadata": {
        "id": "RyxiX8v1TOOy"
      },
      "outputs": [],
      "source": [
        "import pandas as pd"
      ]
    },
    {
      "cell_type": "code",
      "source": [
        "df = pd.read_csv(\"alternating_data.csv\", header=0, quotechar='\"', encoding=\"utf-8\")"
      ],
      "metadata": {
        "id": "P-c7ze3vTgGx"
      },
      "execution_count": null,
      "outputs": []
    },
    {
      "cell_type": "code",
      "source": [
        "print(df['cleaned_text'].isnull().sum())\n",
        "df.isnull().sum()"
      ],
      "metadata": {
        "colab": {
          "base_uri": "https://localhost:8080/",
          "height": 164
        },
        "id": "X-UEVzgGTg3y",
        "outputId": "6deee670-a04a-45ec-ac1c-c6afebb47e83"
      },
      "execution_count": null,
      "outputs": [
        {
          "output_type": "stream",
          "name": "stdout",
          "text": [
            "0\n"
          ]
        },
        {
          "output_type": "execute_result",
          "data": {
            "text/plain": [
              "cleaned_text    0\n",
              "label           0\n",
              "dtype: int64"
            ],
            "text/html": [
              "<div>\n",
              "<style scoped>\n",
              "    .dataframe tbody tr th:only-of-type {\n",
              "        vertical-align: middle;\n",
              "    }\n",
              "\n",
              "    .dataframe tbody tr th {\n",
              "        vertical-align: top;\n",
              "    }\n",
              "\n",
              "    .dataframe thead th {\n",
              "        text-align: right;\n",
              "    }\n",
              "</style>\n",
              "<table border=\"1\" class=\"dataframe\">\n",
              "  <thead>\n",
              "    <tr style=\"text-align: right;\">\n",
              "      <th></th>\n",
              "      <th>0</th>\n",
              "    </tr>\n",
              "  </thead>\n",
              "  <tbody>\n",
              "    <tr>\n",
              "      <th>cleaned_text</th>\n",
              "      <td>0</td>\n",
              "    </tr>\n",
              "    <tr>\n",
              "      <th>label</th>\n",
              "      <td>0</td>\n",
              "    </tr>\n",
              "  </tbody>\n",
              "</table>\n",
              "</div><br><label><b>dtype:</b> int64</label>"
            ]
          },
          "metadata": {},
          "execution_count": 4
        }
      ]
    },
    {
      "cell_type": "code",
      "source": [
        "df = df.dropna()"
      ],
      "metadata": {
        "id": "bz1zOac3Til8"
      },
      "execution_count": null,
      "outputs": []
    },
    {
      "cell_type": "code",
      "source": [
        "df.head()"
      ],
      "metadata": {
        "colab": {
          "base_uri": "https://localhost:8080/",
          "height": 206
        },
        "id": "SYbr8eGJTjil",
        "outputId": "1c5ee77c-5865-4603-c9eb-20fbe1df9bf8"
      },
      "execution_count": null,
      "outputs": [
        {
          "output_type": "execute_result",
          "data": {
            "text/plain": [
              "                                        cleaned_text  label\n",
              "0  kumpulan judi slot online tembak ikan online t...      1\n",
              "1  vivacoid berita terkini informasi terbaru nasi...      0\n",
              "2  iboplay iboplay produk membantu anakanak belaj...      1\n",
              "3  universitas negeri padang official website uni...      0\n",
              "4  ibosport situs slot gacor gampang menang maxwi...      1"
            ],
            "text/html": [
              "\n",
              "  <div id=\"df-b1b46437-61bd-40db-a31a-3fac33bcbef6\" class=\"colab-df-container\">\n",
              "    <div>\n",
              "<style scoped>\n",
              "    .dataframe tbody tr th:only-of-type {\n",
              "        vertical-align: middle;\n",
              "    }\n",
              "\n",
              "    .dataframe tbody tr th {\n",
              "        vertical-align: top;\n",
              "    }\n",
              "\n",
              "    .dataframe thead th {\n",
              "        text-align: right;\n",
              "    }\n",
              "</style>\n",
              "<table border=\"1\" class=\"dataframe\">\n",
              "  <thead>\n",
              "    <tr style=\"text-align: right;\">\n",
              "      <th></th>\n",
              "      <th>cleaned_text</th>\n",
              "      <th>label</th>\n",
              "    </tr>\n",
              "  </thead>\n",
              "  <tbody>\n",
              "    <tr>\n",
              "      <th>0</th>\n",
              "      <td>kumpulan judi slot online tembak ikan online t...</td>\n",
              "      <td>1</td>\n",
              "    </tr>\n",
              "    <tr>\n",
              "      <th>1</th>\n",
              "      <td>vivacoid berita terkini informasi terbaru nasi...</td>\n",
              "      <td>0</td>\n",
              "    </tr>\n",
              "    <tr>\n",
              "      <th>2</th>\n",
              "      <td>iboplay iboplay produk membantu anakanak belaj...</td>\n",
              "      <td>1</td>\n",
              "    </tr>\n",
              "    <tr>\n",
              "      <th>3</th>\n",
              "      <td>universitas negeri padang official website uni...</td>\n",
              "      <td>0</td>\n",
              "    </tr>\n",
              "    <tr>\n",
              "      <th>4</th>\n",
              "      <td>ibosport situs slot gacor gampang menang maxwi...</td>\n",
              "      <td>1</td>\n",
              "    </tr>\n",
              "  </tbody>\n",
              "</table>\n",
              "</div>\n",
              "    <div class=\"colab-df-buttons\">\n",
              "\n",
              "  <div class=\"colab-df-container\">\n",
              "    <button class=\"colab-df-convert\" onclick=\"convertToInteractive('df-b1b46437-61bd-40db-a31a-3fac33bcbef6')\"\n",
              "            title=\"Convert this dataframe to an interactive table.\"\n",
              "            style=\"display:none;\">\n",
              "\n",
              "  <svg xmlns=\"http://www.w3.org/2000/svg\" height=\"24px\" viewBox=\"0 -960 960 960\">\n",
              "    <path d=\"M120-120v-720h720v720H120Zm60-500h600v-160H180v160Zm220 220h160v-160H400v160Zm0 220h160v-160H400v160ZM180-400h160v-160H180v160Zm440 0h160v-160H620v160ZM180-180h160v-160H180v160Zm440 0h160v-160H620v160Z\"/>\n",
              "  </svg>\n",
              "    </button>\n",
              "\n",
              "  <style>\n",
              "    .colab-df-container {\n",
              "      display:flex;\n",
              "      gap: 12px;\n",
              "    }\n",
              "\n",
              "    .colab-df-convert {\n",
              "      background-color: #E8F0FE;\n",
              "      border: none;\n",
              "      border-radius: 50%;\n",
              "      cursor: pointer;\n",
              "      display: none;\n",
              "      fill: #1967D2;\n",
              "      height: 32px;\n",
              "      padding: 0 0 0 0;\n",
              "      width: 32px;\n",
              "    }\n",
              "\n",
              "    .colab-df-convert:hover {\n",
              "      background-color: #E2EBFA;\n",
              "      box-shadow: 0px 1px 2px rgba(60, 64, 67, 0.3), 0px 1px 3px 1px rgba(60, 64, 67, 0.15);\n",
              "      fill: #174EA6;\n",
              "    }\n",
              "\n",
              "    .colab-df-buttons div {\n",
              "      margin-bottom: 4px;\n",
              "    }\n",
              "\n",
              "    [theme=dark] .colab-df-convert {\n",
              "      background-color: #3B4455;\n",
              "      fill: #D2E3FC;\n",
              "    }\n",
              "\n",
              "    [theme=dark] .colab-df-convert:hover {\n",
              "      background-color: #434B5C;\n",
              "      box-shadow: 0px 1px 3px 1px rgba(0, 0, 0, 0.15);\n",
              "      filter: drop-shadow(0px 1px 2px rgba(0, 0, 0, 0.3));\n",
              "      fill: #FFFFFF;\n",
              "    }\n",
              "  </style>\n",
              "\n",
              "    <script>\n",
              "      const buttonEl =\n",
              "        document.querySelector('#df-b1b46437-61bd-40db-a31a-3fac33bcbef6 button.colab-df-convert');\n",
              "      buttonEl.style.display =\n",
              "        google.colab.kernel.accessAllowed ? 'block' : 'none';\n",
              "\n",
              "      async function convertToInteractive(key) {\n",
              "        const element = document.querySelector('#df-b1b46437-61bd-40db-a31a-3fac33bcbef6');\n",
              "        const dataTable =\n",
              "          await google.colab.kernel.invokeFunction('convertToInteractive',\n",
              "                                                    [key], {});\n",
              "        if (!dataTable) return;\n",
              "\n",
              "        const docLinkHtml = 'Like what you see? Visit the ' +\n",
              "          '<a target=\"_blank\" href=https://colab.research.google.com/notebooks/data_table.ipynb>data table notebook</a>'\n",
              "          + ' to learn more about interactive tables.';\n",
              "        element.innerHTML = '';\n",
              "        dataTable['output_type'] = 'display_data';\n",
              "        await google.colab.output.renderOutput(dataTable, element);\n",
              "        const docLink = document.createElement('div');\n",
              "        docLink.innerHTML = docLinkHtml;\n",
              "        element.appendChild(docLink);\n",
              "      }\n",
              "    </script>\n",
              "  </div>\n",
              "\n",
              "\n",
              "<div id=\"df-aeac3449-e14a-4a31-b795-54025a482672\">\n",
              "  <button class=\"colab-df-quickchart\" onclick=\"quickchart('df-aeac3449-e14a-4a31-b795-54025a482672')\"\n",
              "            title=\"Suggest charts\"\n",
              "            style=\"display:none;\">\n",
              "\n",
              "<svg xmlns=\"http://www.w3.org/2000/svg\" height=\"24px\"viewBox=\"0 0 24 24\"\n",
              "     width=\"24px\">\n",
              "    <g>\n",
              "        <path d=\"M19 3H5c-1.1 0-2 .9-2 2v14c0 1.1.9 2 2 2h14c1.1 0 2-.9 2-2V5c0-1.1-.9-2-2-2zM9 17H7v-7h2v7zm4 0h-2V7h2v10zm4 0h-2v-4h2v4z\"/>\n",
              "    </g>\n",
              "</svg>\n",
              "  </button>\n",
              "\n",
              "<style>\n",
              "  .colab-df-quickchart {\n",
              "      --bg-color: #E8F0FE;\n",
              "      --fill-color: #1967D2;\n",
              "      --hover-bg-color: #E2EBFA;\n",
              "      --hover-fill-color: #174EA6;\n",
              "      --disabled-fill-color: #AAA;\n",
              "      --disabled-bg-color: #DDD;\n",
              "  }\n",
              "\n",
              "  [theme=dark] .colab-df-quickchart {\n",
              "      --bg-color: #3B4455;\n",
              "      --fill-color: #D2E3FC;\n",
              "      --hover-bg-color: #434B5C;\n",
              "      --hover-fill-color: #FFFFFF;\n",
              "      --disabled-bg-color: #3B4455;\n",
              "      --disabled-fill-color: #666;\n",
              "  }\n",
              "\n",
              "  .colab-df-quickchart {\n",
              "    background-color: var(--bg-color);\n",
              "    border: none;\n",
              "    border-radius: 50%;\n",
              "    cursor: pointer;\n",
              "    display: none;\n",
              "    fill: var(--fill-color);\n",
              "    height: 32px;\n",
              "    padding: 0;\n",
              "    width: 32px;\n",
              "  }\n",
              "\n",
              "  .colab-df-quickchart:hover {\n",
              "    background-color: var(--hover-bg-color);\n",
              "    box-shadow: 0 1px 2px rgba(60, 64, 67, 0.3), 0 1px 3px 1px rgba(60, 64, 67, 0.15);\n",
              "    fill: var(--button-hover-fill-color);\n",
              "  }\n",
              "\n",
              "  .colab-df-quickchart-complete:disabled,\n",
              "  .colab-df-quickchart-complete:disabled:hover {\n",
              "    background-color: var(--disabled-bg-color);\n",
              "    fill: var(--disabled-fill-color);\n",
              "    box-shadow: none;\n",
              "  }\n",
              "\n",
              "  .colab-df-spinner {\n",
              "    border: 2px solid var(--fill-color);\n",
              "    border-color: transparent;\n",
              "    border-bottom-color: var(--fill-color);\n",
              "    animation:\n",
              "      spin 1s steps(1) infinite;\n",
              "  }\n",
              "\n",
              "  @keyframes spin {\n",
              "    0% {\n",
              "      border-color: transparent;\n",
              "      border-bottom-color: var(--fill-color);\n",
              "      border-left-color: var(--fill-color);\n",
              "    }\n",
              "    20% {\n",
              "      border-color: transparent;\n",
              "      border-left-color: var(--fill-color);\n",
              "      border-top-color: var(--fill-color);\n",
              "    }\n",
              "    30% {\n",
              "      border-color: transparent;\n",
              "      border-left-color: var(--fill-color);\n",
              "      border-top-color: var(--fill-color);\n",
              "      border-right-color: var(--fill-color);\n",
              "    }\n",
              "    40% {\n",
              "      border-color: transparent;\n",
              "      border-right-color: var(--fill-color);\n",
              "      border-top-color: var(--fill-color);\n",
              "    }\n",
              "    60% {\n",
              "      border-color: transparent;\n",
              "      border-right-color: var(--fill-color);\n",
              "    }\n",
              "    80% {\n",
              "      border-color: transparent;\n",
              "      border-right-color: var(--fill-color);\n",
              "      border-bottom-color: var(--fill-color);\n",
              "    }\n",
              "    90% {\n",
              "      border-color: transparent;\n",
              "      border-bottom-color: var(--fill-color);\n",
              "    }\n",
              "  }\n",
              "</style>\n",
              "\n",
              "  <script>\n",
              "    async function quickchart(key) {\n",
              "      const quickchartButtonEl =\n",
              "        document.querySelector('#' + key + ' button');\n",
              "      quickchartButtonEl.disabled = true;  // To prevent multiple clicks.\n",
              "      quickchartButtonEl.classList.add('colab-df-spinner');\n",
              "      try {\n",
              "        const charts = await google.colab.kernel.invokeFunction(\n",
              "            'suggestCharts', [key], {});\n",
              "      } catch (error) {\n",
              "        console.error('Error during call to suggestCharts:', error);\n",
              "      }\n",
              "      quickchartButtonEl.classList.remove('colab-df-spinner');\n",
              "      quickchartButtonEl.classList.add('colab-df-quickchart-complete');\n",
              "    }\n",
              "    (() => {\n",
              "      let quickchartButtonEl =\n",
              "        document.querySelector('#df-aeac3449-e14a-4a31-b795-54025a482672 button');\n",
              "      quickchartButtonEl.style.display =\n",
              "        google.colab.kernel.accessAllowed ? 'block' : 'none';\n",
              "    })();\n",
              "  </script>\n",
              "</div>\n",
              "\n",
              "    </div>\n",
              "  </div>\n"
            ],
            "application/vnd.google.colaboratory.intrinsic+json": {
              "type": "dataframe",
              "variable_name": "df",
              "summary": "{\n  \"name\": \"df\",\n  \"rows\": 4271,\n  \"fields\": [\n    {\n      \"column\": \"cleaned_text\",\n      \"properties\": {\n        \"dtype\": \"string\",\n        \"num_unique_values\": 4271,\n        \"samples\": [\n          \"langit69 slot demo 888slot langit69 slot demo langit69 slot demo\",\n          \"landak putih jual landak mini terlengkap harga terbaru september 2024 888slot landak putih jual landak mini terbaru harga murah bliblicom jual landak mini anakan terlengkap terbaik tokopedia 7 fakta unik hewan berduri landak mini halodoc erek erek cukur rambut rtp ligadewa slot kamboja 2023 gacor 168 slot bonaslot rtp buku mimpi dikasih uang kertas 2d erek erek menangkap ular usaha188 gambar togel 90 angka kejatuhan cicaklandak putih\",\n          \"garuda55 rasakan nikmati sensasi kesuksesan game slot garuda55 situs taruhan slot online terviral keunggulan permainan tergacor nikmati slotter indonesia nikmati permainan garuda55 nikmatilah sensasi kesuksesan dapatkan instan game slot online sediakan garuda55 garuda55 garuda 55 garuda55 login situs garuda55\"\n        ],\n        \"semantic_type\": \"\",\n        \"description\": \"\"\n      }\n    },\n    {\n      \"column\": \"label\",\n      \"properties\": {\n        \"dtype\": \"number\",\n        \"std\": 0,\n        \"min\": 0,\n        \"max\": 1,\n        \"num_unique_values\": 2,\n        \"samples\": [\n          0,\n          1\n        ],\n        \"semantic_type\": \"\",\n        \"description\": \"\"\n      }\n    }\n  ]\n}"
            }
          },
          "metadata": {},
          "execution_count": 6
        }
      ]
    },
    {
      "cell_type": "code",
      "source": [
        "# Tokenisasi\n",
        "tokenized_sentences = df['cleaned_text'].apply(lambda x: x.split()).tolist()\n",
        "\n",
        "print(\"Contoh tokenized sentences:\")\n",
        "print(tokenized_sentences[:5])  # 5 baris pertama"
      ],
      "metadata": {
        "colab": {
          "base_uri": "https://localhost:8080/"
        },
        "id": "vjqVLq4YTk2w",
        "outputId": "e1eb233c-cac6-4957-8bcb-49cf95bc7fe4"
      },
      "execution_count": null,
      "outputs": [
        {
          "output_type": "stream",
          "name": "stdout",
          "text": [
            "Contoh tokenized sentences:\n",
            "[['kumpulan', 'judi', 'slot', 'online', 'tembak', 'ikan', 'online', 'togel', 'online', 'casino', 'online', 'bola', 'online', 'terbaik', 'kumpulan', 'judi', 'slot', 'online', 'poker', 'online', 'togel', 'online', 'casino', 'online', 'bola', 'online', 'terbaik', 'terpercaya', 'indonesia', 'ibomacau', 'judi', 'slot', 'online', 'judi', 'poker', 'online', 'judi', 'togel', 'online', 'judi', 'casino', 'online', 'judi', 'bola', 'online', 'agen', 'judi', 'slot', 'agen', 'judi', 'poker', 'agen', 'judi', 'togel', 'agen', 'judi', 'casino', 'agen', 'judi', 'bola', 'bandar', 'judi', 'slot', 'bandar', 'judi', 'poker', 'bandar', 'judi', 'togel', 'bandar', 'judi', 'casino', 'bandar', 'judi', 'bola'], ['vivacoid', 'berita', 'terkini', 'informasi', 'terbaru', 'nasional', 'internasional', 'vivacoid', 'berita', 'terbaru', 'nasional', 'mancanegara', 'terkait', 'isu', 'terkini', 'menyajikan', 'berita', 'lokal', 'olahraga', 'bisnis', 'politik', 'peristiwa', 'trending', 'gosip', 'artis', 'berita', 'berita', 'terbaru', 'berita', 'harian', 'berita', 'terkini', 'berita', 'indonesia', 'berita', 'showbiz', 'berita', 'bola', 'berita', 'olahraga', 'berita', 'politik'], ['iboplay', 'iboplay', 'produk', 'membantu', 'anakanak', 'belajar', 'berkemba', '888slot', 'iboplay', 'permainan', 'seru', 'menguntungkan', 'situs', 'iboplay', 'iboplay', 'situs', 'judi', 'online', 'daftar', 'slot', 'gacor', 'terbaik', 'situs', 'slot', 'iboplay', 'game', 'interaktif', 'memenuhi', 'harihari', 'd', 'iboplay'], ['universitas', 'negeri', 'padang', 'official', 'website', 'universitas', 'negeri', 'padang', 'universitas', 'negeri', 'padang'], ['ibosport', 'situs', 'slot', 'gacor', 'gampang', 'menang', 'maxwin', 'resmi', 'ibosport', 'pelopor', 'rekomendasi', 'link', 'situs', 'slot', 'gacor', 'gampang', 'menang', 'maxwin', 'link', 'resmi', 'judi', 'slot', 'online', 'ibo', 'login', 'terbaru', 'terpercaya', 'ibosport', 'situs', 'slot', 'gacor', 'slot', 'gacor', 'gampang', 'menang', 'ibosport', 'v1', 'ibosport', 'v2', 'ibosport', 'login']]\n"
          ]
        }
      ]
    },
    {
      "cell_type": "code",
      "source": [
        "from gensim.models import Word2Vec\n",
        "\n",
        "# Latih Word2Vec\n",
        "w2v_model = Word2Vec(\n",
        "    sentences=tokenized_sentences,  # Data tokenized sentences\n",
        "    vector_size=100,               # Dimensi embedding\n",
        "    window=5,                      # Window size (konteks kata)\n",
        "    min_count=5,                   # Kata dengan frekuensi rendah akan diabaikan\n",
        "    workers=4,                     # Jumlah thread\n",
        "    sg=1                           # Gunakan Skip-Gram (0 untuk CBOW)\n",
        ")\n",
        "\n",
        "# Simpan model Word2Vec\n",
        "w2v_model.save(\"word2vec_model.model\")\n",
        "\n",
        "print(\"Word2Vec model berhasil dibuat!\")"
      ],
      "metadata": {
        "colab": {
          "base_uri": "https://localhost:8080/"
        },
        "id": "Hx-KsSc0TnP9",
        "outputId": "c22e8d90-3647-4887-952f-2477455b93d2"
      },
      "execution_count": null,
      "outputs": [
        {
          "output_type": "stream",
          "name": "stdout",
          "text": [
            "Word2Vec model berhasil dibuat!\n"
          ]
        }
      ]
    },
    {
      "cell_type": "code",
      "source": [
        "print(\"Kata yang mirip dengan 'judi':\")\n",
        "print(w2v_model.wv.most_similar(\"judi\", topn=100))"
      ],
      "metadata": {
        "colab": {
          "base_uri": "https://localhost:8080/"
        },
        "id": "tGXYyAleTodW",
        "outputId": "3e510b37-21a8-4791-e904-e875d278ef81"
      },
      "execution_count": null,
      "outputs": [
        {
          "output_type": "stream",
          "name": "stdout",
          "text": [
            "Kata yang mirip dengan 'judi':\n",
            "[('amalbet', 0.9346467852592468), ('parlay', 0.9239897131919861), ('gacorbos88', 0.9232689738273621), ('amanbola', 0.92324298620224), ('mix', 0.9227603673934937), ('idnslot', 0.9226413369178772), ('idnplay', 0.919431746006012), ('agen', 0.918895423412323), ('lapakbo', 0.9168636202812195), ('dewacasino', 0.9161137342453003), ('online24jam', 0.9060172438621521), ('vodka138', 0.9059266448020935), ('togelmandiri', 0.905599057674408), ('eyangpoker', 0.9049637913703918), ('afapoker', 0.9031627178192139), ('taruhan', 0.9031580686569214), ('dewi365', 0.9026783108711243), ('sepakbolacc', 0.901847779750824), ('8togel', 0.9014432430267334), ('flyingslot', 0.9002019166946411), ('rgobet', 0.8998932838439941), ('teraman', 0.898817777633667), ('sabung', 0.8976759910583496), ('pokerboya', 0.8974166512489319), ('eyangtogel', 0.8968868255615234), ('togelcc', 0.896359920501709), ('brotogel', 0.8962373733520508), ('dewabet', 0.894637942314148), ('idn', 0.8944967985153198), ('onlineslot', 0.8941881656646729), ('sbet11', 0.8940897583961487), ('s1288poker', 0.8937568068504333), ('rgopoker', 0.8915162682533264), ('rgotogel', 0.8911609649658203), ('texaspokercc', 0.8901734352111816), ('ayam', 0.8900460600852966), ('holybet777', 0.8880462050437927), ('madu303', 0.8879129886627197), ('afatogel', 0.8878075480461121), ('susun', 0.8865623474121094), ('pgsoft38', 0.8864173293113708), ('bandarqq', 0.886213481426239), ('amanbet88', 0.8859184980392456), ('jayatogel', 0.8853879570960999), ('roulette', 0.8845094442367554), ('org', 0.8836238980293274), ('gitartogel', 0.8831210136413574), ('capsa', 0.8827912211418152), ('sv388', 0.8823158144950867), ('pragmatic38', 0.8814883828163147), ('areaslot', 0.8814150094985962), ('waw4d', 0.8809919357299805), ('hokibet', 0.8808131814002991), ('kasino', 0.8803192377090454), ('last4d', 0.8802486658096313), ('pokerqq', 0.8800260424613953), ('ceme', 0.8793389797210693), ('rolet', 0.879037618637085), ('gitarpoker', 0.8788343071937561), ('piala', 0.8783751726150513), ('jud1', 0.8783542513847351), ('idnsport', 0.8783180117607117), ('mantra88', 0.8774808645248413), ('lampu777', 0.876545786857605), ('rgocasino', 0.8760169148445129), ('rajazeus', 0.8759349584579468), ('wigobet', 0.8756937980651855), ('terkuat', 0.8747831583023071), ('sumutpoker', 0.8742026090621948), ('dewanaga77', 0.8728815913200378), ('hoki178', 0.8725677132606506), ('dewa', 0.8723894953727722), ('lancelot88', 0.8722765445709229), ('8080sport', 0.871554434299469), ('qq', 0.8707489967346191), ('bulantogel', 0.8707394599914551), ('bettingan', 0.8696513772010803), ('dingdong', 0.8696461915969849), ('mytogel', 0.8692507743835449), ('sbobet88', 0.8691775798797607), ('cikabet', 0.8691751956939697), ('slot99bet', 0.868944525718689), ('casiobet', 0.8681238889694214), ('sicbo', 0.8677787184715271), ('rajacasino88', 0.8676710724830627), ('domino99', 0.867149829864502), ('king88', 0.8665314316749573), ('kaisarslot777', 0.8663732409477234), ('slot911', 0.865882396697998), ('larasati4d', 0.8653695583343506), ('pkv', 0.8649765849113464), ('dewapoker', 0.8647979497909546), ('kudaslot', 0.8647300601005554), ('kiw69', 0.8644968271255493), ('mumunbet', 0.864223837852478), ('turnamen', 0.8628642559051514), ('terviral', 0.8620311617851257), ('winrate', 0.8617892861366272), ('kawanbet', 0.8613315224647522), ('tergacor', 0.8611947894096375)]\n"
          ]
        }
      ]
    },
    {
      "cell_type": "code",
      "source": [
        "print(\"Embedding untuk kata 'judi':\")\n",
        "print(w2v_model.wv['judi'])"
      ],
      "metadata": {
        "colab": {
          "base_uri": "https://localhost:8080/"
        },
        "id": "-L7--4hQTqdH",
        "outputId": "a178bab5-6fb9-4ae7-e3cd-67bfde076059"
      },
      "execution_count": null,
      "outputs": [
        {
          "output_type": "stream",
          "name": "stdout",
          "text": [
            "Embedding untuk kata 'judi':\n",
            "[ 0.12963971  0.13605557  0.29783547  0.20265569 -0.10172204 -0.44294575\n",
            "  0.2626636   0.5668098  -0.42937154 -0.09921011 -0.19502227 -0.5139995\n",
            "  0.01390054  0.30548877 -0.3225425   0.13672976  0.53611284 -0.10464051\n",
            " -0.0265127  -0.6607717   0.64420164  0.39673057  0.7189964  -0.35474384\n",
            " -0.1503429   0.286694   -0.2167464   0.18145137 -0.3133284   0.5241439\n",
            "  0.34979483 -0.28685653  0.344903   -0.6241016  -0.04775852  0.13949487\n",
            "  0.25232702  0.14799534 -0.6143171  -0.7751618   0.08125044 -0.13359435\n",
            "  0.03019761  0.37216288  0.32031488 -0.6292662  -0.45276418 -0.15147756\n",
            "  0.45018792  0.06046985 -0.3193292  -0.2518133  -0.02178635 -0.41507468\n",
            " -0.26629004  0.05933205 -0.01017676 -0.08609907 -0.45718807  0.07744448\n",
            "  0.5298446   0.00659839  0.41173875  0.4880518  -0.24018346  0.2807883\n",
            "  0.09987705  0.31531507 -0.53187203  0.39486614  0.26026338  0.07782381\n",
            "  0.02638437 -0.00958126  0.21403113 -0.01492261  0.22784708  0.12182201\n",
            "  0.1678481  -0.6029855  -0.2642302  -0.45830837 -0.6078841   0.35228157\n",
            " -0.8433385  -0.00592425  0.35952225  0.16006309 -0.26862928 -0.12610166\n",
            "  0.21604468  0.20601924  0.12676512 -0.5426529   0.03785031  0.20422322\n",
            " -0.18067244 -0.18560241  0.10560367  0.39786083]\n"
          ]
        }
      ]
    },
    {
      "cell_type": "code",
      "source": [
        "# Simpan embedding dalam format teks\n",
        "w2v_model.wv.save_word2vec_format('word2vec_embeddings.txt', binary=False)"
      ],
      "metadata": {
        "id": "ov44OGJwTrZy"
      },
      "execution_count": null,
      "outputs": []
    },
    {
      "cell_type": "code",
      "source": [
        "import numpy as np\n",
        "\n",
        "# Vocabulary Word2Vec\n",
        "vocab_size = len(w2v_model.wv)\n",
        "embedding_dim = 100  # Dimensi embedding Word2Vec\n",
        "\n",
        "# Buat embedding matrix\n",
        "embedding_matrix = np.zeros((vocab_size, embedding_dim))\n",
        "word_index = {word: i for i, word in enumerate(w2v_model.wv.index_to_key)}\n",
        "\n",
        "for word, i in word_index.items():\n",
        "    embedding_matrix[i] = w2v_model.wv[word]"
      ],
      "metadata": {
        "id": "s5dHSUr3TseL"
      },
      "execution_count": null,
      "outputs": []
    },
    {
      "cell_type": "code",
      "source": [
        "import pandas as pd\n",
        "from sklearn.model_selection import train_test_split\n",
        "from tensorflow.keras.preprocessing.text import Tokenizer\n",
        "from tensorflow.keras.preprocessing.sequence import pad_sequences\n",
        "import numpy as np"
      ],
      "metadata": {
        "id": "7oHFLuqKTtss"
      },
      "execution_count": null,
      "outputs": []
    },
    {
      "cell_type": "code",
      "source": [
        "X = df['cleaned_text']  # menggunakan cleaned_text sebagai fitur\n",
        "y = df['label']        # menggunakan kolom label\n",
        "\n",
        "# Split data menjadi training dan testing\n",
        "X_train, X_test, y_train, y_test = train_test_split(\n",
        "    X, y,\n",
        "    test_size=0.2,     # 20% untuk testing\n",
        "    random_state=42,    # untuk reproducibility\n",
        "    stratify=y         # untuk memastikan distribusi kelas seimbang\n",
        ")"
      ],
      "metadata": {
        "id": "YS9wKFJlTuwJ"
      },
      "execution_count": null,
      "outputs": []
    },
    {
      "cell_type": "code",
      "source": [
        "tokenizer = Tokenizer(num_words=10000)  # membatasi vocabulary size\n",
        "tokenizer.fit_on_texts(X_train)"
      ],
      "metadata": {
        "id": "zhbL-URhTwuy"
      },
      "execution_count": null,
      "outputs": []
    },
    {
      "cell_type": "code",
      "source": [
        "X_train_seq = tokenizer.texts_to_sequences(X_train)\n",
        "X_test_seq = tokenizer.texts_to_sequences(X_test)"
      ],
      "metadata": {
        "id": "4HIbg0E8Tx25"
      },
      "execution_count": null,
      "outputs": []
    },
    {
      "cell_type": "code",
      "source": [
        "maxlen = 100  # panjang maksimum sequence\n",
        "X_train_pad = pad_sequences(X_train_seq, maxlen=maxlen)\n",
        "X_test_pad = pad_sequences(X_test_seq, maxlen=maxlen)"
      ],
      "metadata": {
        "id": "XtL1Ci66TyyE"
      },
      "execution_count": null,
      "outputs": []
    },
    {
      "cell_type": "code",
      "source": [
        "import numpy as np\n",
        "import pandas as pd\n",
        "from sklearn.model_selection import train_test_split\n",
        "from tensorflow.keras.preprocessing.text import Tokenizer\n",
        "from tensorflow.keras.preprocessing.sequence import pad_sequences\n",
        "from tensorflow.keras.models import Sequential\n",
        "from tensorflow.keras.layers import Embedding, LSTM, Dense, Dropout, Bidirectional\n",
        "from tensorflow.keras.callbacks import EarlyStopping\n",
        "from sklearn.utils.class_weight import compute_class_weight\n",
        "from sklearn.metrics import classification_report, confusion_matrix"
      ],
      "metadata": {
        "id": "wcRrRRa7TzrV"
      },
      "execution_count": null,
      "outputs": []
    },
    {
      "cell_type": "code",
      "source": [
        "maxlen = 100  # panjang maksimum sequence\n",
        "tokenizer = Tokenizer(num_words=10000)  # membatasi vocabulary size\n",
        "tokenizer.fit_on_texts(df['cleaned_text'])"
      ],
      "metadata": {
        "id": "T0ydkEdGT0b4"
      },
      "execution_count": null,
      "outputs": []
    },
    {
      "cell_type": "code",
      "source": [
        "sequences = tokenizer.texts_to_sequences(df['cleaned_text'])\n",
        "X = pad_sequences(sequences, maxlen=maxlen)\n",
        "y = df['label'].values"
      ],
      "metadata": {
        "id": "mEy8tC0uT1ps"
      },
      "execution_count": null,
      "outputs": []
    },
    {
      "cell_type": "code",
      "source": [
        "X_train, X_test, y_train, y_test = train_test_split(\n",
        "    X, y,\n",
        "    test_size=0.2,\n",
        "    random_state=42,\n",
        "    stratify=y\n",
        ")"
      ],
      "metadata": {
        "id": "ahoPfsoNT2fc"
      },
      "execution_count": null,
      "outputs": []
    },
    {
      "cell_type": "code",
      "source": [
        "vocab_size = len(tokenizer.word_index) + 1\n",
        "embedding_dim = 100\n",
        "embedding_matrix = np.zeros((vocab_size, embedding_dim))\n",
        "\n",
        "for word, i in tokenizer.word_index.items():\n",
        "    if word in w2v_model.wv:\n",
        "        embedding_matrix[i] = w2v_model.wv[word]"
      ],
      "metadata": {
        "id": "sPHNHhmeT3LG"
      },
      "execution_count": null,
      "outputs": []
    },
    {
      "cell_type": "code",
      "source": [
        "class_weights = compute_class_weight(\n",
        "    class_weight='balanced',\n",
        "    classes=np.unique(y_train),\n",
        "    y=y_train\n",
        ")\n",
        "class_weight_dict = dict(enumerate(class_weights))\n",
        "\n",
        "print(\"Class weights:\", class_weight_dict)"
      ],
      "metadata": {
        "colab": {
          "base_uri": "https://localhost:8080/"
        },
        "id": "879a0Yi7T33w",
        "outputId": "1f11d4d9-4898-4b0a-f1f2-b9800bd43f00"
      },
      "execution_count": null,
      "outputs": [
        {
          "output_type": "stream",
          "name": "stdout",
          "text": [
            "Class weights: {0: 1.0, 1: 1.0}\n"
          ]
        }
      ]
    },
    {
      "cell_type": "code",
      "source": [
        "model = Sequential([\n",
        "    # Embedding layer dengan pre-trained Word2Vec weights\n",
        "    Embedding(\n",
        "        input_dim=vocab_size,\n",
        "        output_dim=embedding_dim,\n",
        "        weights=[embedding_matrix],\n",
        "        input_length=maxlen,\n",
        "        trainable=False  # Freeze embedding layer\n",
        "    ),\n",
        "\n",
        "    # BiLSTM layers\n",
        "    Bidirectional(LSTM(64, return_sequences=True)),\n",
        "    Dropout(0.3),\n",
        "\n",
        "    Bidirectional(LSTM(32)),\n",
        "    Dropout(0.3),\n",
        "\n",
        "    # Dense layers\n",
        "    Dense(64, activation='relu'),\n",
        "    Dropout(0.3),\n",
        "\n",
        "    # Output layer\n",
        "    Dense(1, activation='sigmoid')\n",
        "])"
      ],
      "metadata": {
        "id": "nDaYHoagT4rd"
      },
      "execution_count": null,
      "outputs": []
    },
    {
      "cell_type": "code",
      "source": [
        "from keras.metrics import Precision, Recall, AUC\n",
        "\n",
        "model.compile(\n",
        "    optimizer='adam',\n",
        "    loss='binary_crossentropy',\n",
        "    metrics=['accuracy', Precision(name='precision'), Recall(name='recall'), AUC(name='auc')]\n",
        ")\n",
        "\n",
        "# Tampilkan summary model\n",
        "model.summary()"
      ],
      "metadata": {
        "colab": {
          "base_uri": "https://localhost:8080/",
          "height": 385
        },
        "id": "l3Ynj7huT5zY",
        "outputId": "1ff5e87a-48b0-44aa-9c59-2b16be7a452c"
      },
      "execution_count": null,
      "outputs": [
        {
          "output_type": "display_data",
          "data": {
            "text/plain": [
              "\u001b[1mModel: \"sequential_1\"\u001b[0m\n"
            ],
            "text/html": [
              "<pre style=\"white-space:pre;overflow-x:auto;line-height:normal;font-family:Menlo,'DejaVu Sans Mono',consolas,'Courier New',monospace\"><span style=\"font-weight: bold\">Model: \"sequential_1\"</span>\n",
              "</pre>\n"
            ]
          },
          "metadata": {}
        },
        {
          "output_type": "display_data",
          "data": {
            "text/plain": [
              "┏━━━━━━━━━━━━━━━━━━━━━━━━━━━━━━━━━━━━━━┳━━━━━━━━━━━━━━━━━━━━━━━━━━━━━┳━━━━━━━━━━━━━━━━━┓\n",
              "┃\u001b[1m \u001b[0m\u001b[1mLayer (type)                        \u001b[0m\u001b[1m \u001b[0m┃\u001b[1m \u001b[0m\u001b[1mOutput Shape               \u001b[0m\u001b[1m \u001b[0m┃\u001b[1m \u001b[0m\u001b[1m        Param #\u001b[0m\u001b[1m \u001b[0m┃\n",
              "┡━━━━━━━━━━━━━━━━━━━━━━━━━━━━━━━━━━━━━━╇━━━━━━━━━━━━━━━━━━━━━━━━━━━━━╇━━━━━━━━━━━━━━━━━┩\n",
              "│ embedding_1 (\u001b[38;5;33mEmbedding\u001b[0m)              │ ?                           │       \u001b[38;5;34m1,695,500\u001b[0m │\n",
              "├──────────────────────────────────────┼─────────────────────────────┼─────────────────┤\n",
              "│ bidirectional_2 (\u001b[38;5;33mBidirectional\u001b[0m)      │ ?                           │     \u001b[38;5;34m0\u001b[0m (unbuilt) │\n",
              "├──────────────────────────────────────┼─────────────────────────────┼─────────────────┤\n",
              "│ dropout_3 (\u001b[38;5;33mDropout\u001b[0m)                  │ ?                           │     \u001b[38;5;34m0\u001b[0m (unbuilt) │\n",
              "├──────────────────────────────────────┼─────────────────────────────┼─────────────────┤\n",
              "│ bidirectional_3 (\u001b[38;5;33mBidirectional\u001b[0m)      │ ?                           │     \u001b[38;5;34m0\u001b[0m (unbuilt) │\n",
              "├──────────────────────────────────────┼─────────────────────────────┼─────────────────┤\n",
              "│ dropout_4 (\u001b[38;5;33mDropout\u001b[0m)                  │ ?                           │     \u001b[38;5;34m0\u001b[0m (unbuilt) │\n",
              "├──────────────────────────────────────┼─────────────────────────────┼─────────────────┤\n",
              "│ dense_2 (\u001b[38;5;33mDense\u001b[0m)                      │ ?                           │     \u001b[38;5;34m0\u001b[0m (unbuilt) │\n",
              "├──────────────────────────────────────┼─────────────────────────────┼─────────────────┤\n",
              "│ dropout_5 (\u001b[38;5;33mDropout\u001b[0m)                  │ ?                           │     \u001b[38;5;34m0\u001b[0m (unbuilt) │\n",
              "├──────────────────────────────────────┼─────────────────────────────┼─────────────────┤\n",
              "│ dense_3 (\u001b[38;5;33mDense\u001b[0m)                      │ ?                           │     \u001b[38;5;34m0\u001b[0m (unbuilt) │\n",
              "└──────────────────────────────────────┴─────────────────────────────┴─────────────────┘\n"
            ],
            "text/html": [
              "<pre style=\"white-space:pre;overflow-x:auto;line-height:normal;font-family:Menlo,'DejaVu Sans Mono',consolas,'Courier New',monospace\">┏━━━━━━━━━━━━━━━━━━━━━━━━━━━━━━━━━━━━━━┳━━━━━━━━━━━━━━━━━━━━━━━━━━━━━┳━━━━━━━━━━━━━━━━━┓\n",
              "┃<span style=\"font-weight: bold\"> Layer (type)                         </span>┃<span style=\"font-weight: bold\"> Output Shape                </span>┃<span style=\"font-weight: bold\">         Param # </span>┃\n",
              "┡━━━━━━━━━━━━━━━━━━━━━━━━━━━━━━━━━━━━━━╇━━━━━━━━━━━━━━━━━━━━━━━━━━━━━╇━━━━━━━━━━━━━━━━━┩\n",
              "│ embedding_1 (<span style=\"color: #0087ff; text-decoration-color: #0087ff\">Embedding</span>)              │ ?                           │       <span style=\"color: #00af00; text-decoration-color: #00af00\">1,695,500</span> │\n",
              "├──────────────────────────────────────┼─────────────────────────────┼─────────────────┤\n",
              "│ bidirectional_2 (<span style=\"color: #0087ff; text-decoration-color: #0087ff\">Bidirectional</span>)      │ ?                           │     <span style=\"color: #00af00; text-decoration-color: #00af00\">0</span> (unbuilt) │\n",
              "├──────────────────────────────────────┼─────────────────────────────┼─────────────────┤\n",
              "│ dropout_3 (<span style=\"color: #0087ff; text-decoration-color: #0087ff\">Dropout</span>)                  │ ?                           │     <span style=\"color: #00af00; text-decoration-color: #00af00\">0</span> (unbuilt) │\n",
              "├──────────────────────────────────────┼─────────────────────────────┼─────────────────┤\n",
              "│ bidirectional_3 (<span style=\"color: #0087ff; text-decoration-color: #0087ff\">Bidirectional</span>)      │ ?                           │     <span style=\"color: #00af00; text-decoration-color: #00af00\">0</span> (unbuilt) │\n",
              "├──────────────────────────────────────┼─────────────────────────────┼─────────────────┤\n",
              "│ dropout_4 (<span style=\"color: #0087ff; text-decoration-color: #0087ff\">Dropout</span>)                  │ ?                           │     <span style=\"color: #00af00; text-decoration-color: #00af00\">0</span> (unbuilt) │\n",
              "├──────────────────────────────────────┼─────────────────────────────┼─────────────────┤\n",
              "│ dense_2 (<span style=\"color: #0087ff; text-decoration-color: #0087ff\">Dense</span>)                      │ ?                           │     <span style=\"color: #00af00; text-decoration-color: #00af00\">0</span> (unbuilt) │\n",
              "├──────────────────────────────────────┼─────────────────────────────┼─────────────────┤\n",
              "│ dropout_5 (<span style=\"color: #0087ff; text-decoration-color: #0087ff\">Dropout</span>)                  │ ?                           │     <span style=\"color: #00af00; text-decoration-color: #00af00\">0</span> (unbuilt) │\n",
              "├──────────────────────────────────────┼─────────────────────────────┼─────────────────┤\n",
              "│ dense_3 (<span style=\"color: #0087ff; text-decoration-color: #0087ff\">Dense</span>)                      │ ?                           │     <span style=\"color: #00af00; text-decoration-color: #00af00\">0</span> (unbuilt) │\n",
              "└──────────────────────────────────────┴─────────────────────────────┴─────────────────┘\n",
              "</pre>\n"
            ]
          },
          "metadata": {}
        },
        {
          "output_type": "display_data",
          "data": {
            "text/plain": [
              "\u001b[1m Total params: \u001b[0m\u001b[38;5;34m1,695,500\u001b[0m (6.47 MB)\n"
            ],
            "text/html": [
              "<pre style=\"white-space:pre;overflow-x:auto;line-height:normal;font-family:Menlo,'DejaVu Sans Mono',consolas,'Courier New',monospace\"><span style=\"font-weight: bold\"> Total params: </span><span style=\"color: #00af00; text-decoration-color: #00af00\">1,695,500</span> (6.47 MB)\n",
              "</pre>\n"
            ]
          },
          "metadata": {}
        },
        {
          "output_type": "display_data",
          "data": {
            "text/plain": [
              "\u001b[1m Trainable params: \u001b[0m\u001b[38;5;34m0\u001b[0m (0.00 B)\n"
            ],
            "text/html": [
              "<pre style=\"white-space:pre;overflow-x:auto;line-height:normal;font-family:Menlo,'DejaVu Sans Mono',consolas,'Courier New',monospace\"><span style=\"font-weight: bold\"> Trainable params: </span><span style=\"color: #00af00; text-decoration-color: #00af00\">0</span> (0.00 B)\n",
              "</pre>\n"
            ]
          },
          "metadata": {}
        },
        {
          "output_type": "display_data",
          "data": {
            "text/plain": [
              "\u001b[1m Non-trainable params: \u001b[0m\u001b[38;5;34m1,695,500\u001b[0m (6.47 MB)\n"
            ],
            "text/html": [
              "<pre style=\"white-space:pre;overflow-x:auto;line-height:normal;font-family:Menlo,'DejaVu Sans Mono',consolas,'Courier New',monospace\"><span style=\"font-weight: bold\"> Non-trainable params: </span><span style=\"color: #00af00; text-decoration-color: #00af00\">1,695,500</span> (6.47 MB)\n",
              "</pre>\n"
            ]
          },
          "metadata": {}
        }
      ]
    },
    {
      "cell_type": "code",
      "source": [
        "early_stopping = EarlyStopping(\n",
        "    monitor='val_precision',  # Monitor precision pada validasi\n",
        "    patience=3,\n",
        "    restore_best_weights=True,\n",
        "    mode='max'\n",
        ")"
      ],
      "metadata": {
        "id": "1rmpdmqFT6vp"
      },
      "execution_count": null,
      "outputs": []
    },
    {
      "cell_type": "code",
      "source": [
        "history = model.fit(\n",
        "    X_train,\n",
        "    y_train,\n",
        "    validation_split=0.2,\n",
        "    epochs=20,\n",
        "    batch_size=32,\n",
        "    class_weight=class_weight_dict,\n",
        "    callbacks=[early_stopping]\n",
        ")"
      ],
      "metadata": {
        "colab": {
          "base_uri": "https://localhost:8080/"
        },
        "id": "-3C3W230T8Ny",
        "outputId": "475d9e79-6b5b-4a70-ea36-ec57042caf3e"
      },
      "execution_count": null,
      "outputs": [
        {
          "output_type": "stream",
          "name": "stdout",
          "text": [
            "Epoch 1/20\n",
            "\u001b[1m86/86\u001b[0m \u001b[32m━━━━━━━━━━━━━━━━━━━━\u001b[0m\u001b[37m\u001b[0m \u001b[1m7s\u001b[0m 29ms/step - accuracy: 0.8950 - auc: 0.9447 - loss: 0.3579 - precision: 0.9536 - recall: 0.8242 - val_accuracy: 0.9898 - val_auc: 0.9995 - val_loss: 0.0389 - val_precision: 0.9971 - val_recall: 0.9829\n",
            "Epoch 2/20\n",
            "\u001b[1m86/86\u001b[0m \u001b[32m━━━━━━━━━━━━━━━━━━━━\u001b[0m\u001b[37m\u001b[0m \u001b[1m2s\u001b[0m 28ms/step - accuracy: 0.9689 - auc: 0.9850 - loss: 0.1133 - precision: 0.9782 - recall: 0.9578 - val_accuracy: 0.9868 - val_auc: 0.9996 - val_loss: 0.0335 - val_precision: 0.9858 - val_recall: 0.9886\n",
            "Epoch 3/20\n",
            "\u001b[1m86/86\u001b[0m \u001b[32m━━━━━━━━━━━━━━━━━━━━\u001b[0m\u001b[37m\u001b[0m \u001b[1m2s\u001b[0m 25ms/step - accuracy: 0.9743 - auc: 0.9923 - loss: 0.0834 - precision: 0.9804 - recall: 0.9686 - val_accuracy: 0.9839 - val_auc: 0.9995 - val_loss: 0.0437 - val_precision: 0.9802 - val_recall: 0.9886\n",
            "Epoch 4/20\n",
            "\u001b[1m86/86\u001b[0m \u001b[32m━━━━━━━━━━━━━━━━━━━━\u001b[0m\u001b[37m\u001b[0m \u001b[1m2s\u001b[0m 21ms/step - accuracy: 0.9745 - auc: 0.9927 - loss: 0.0877 - precision: 0.9823 - recall: 0.9678 - val_accuracy: 0.9883 - val_auc: 0.9992 - val_loss: 0.0387 - val_precision: 0.9886 - val_recall: 0.9886\n"
          ]
        }
      ]
    },
    {
      "cell_type": "code",
      "source": [
        "# Prediksi\n",
        "y_pred_proba = model.predict(X_test)\n",
        "y_pred = (y_pred_proba > 0.5).astype(int)\n",
        "\n",
        "# Print metrics\n",
        "print(\"\\nClassification Report:\")\n",
        "print(classification_report(y_test, y_pred))\n",
        "\n",
        "print(\"\\nConfusion Matrix:\")\n",
        "print(confusion_matrix(y_test, y_pred))"
      ],
      "metadata": {
        "colab": {
          "base_uri": "https://localhost:8080/"
        },
        "id": "s2XIX1kFT9op",
        "outputId": "74201b23-9be4-4efd-e21d-2dda62d0fec1"
      },
      "execution_count": null,
      "outputs": [
        {
          "output_type": "stream",
          "name": "stdout",
          "text": [
            "\u001b[1m27/27\u001b[0m \u001b[32m━━━━━━━━━━━━━━━━━━━━\u001b[0m\u001b[37m\u001b[0m \u001b[1m1s\u001b[0m 20ms/step\n",
            "\n",
            "Classification Report:\n",
            "              precision    recall  f1-score   support\n",
            "\n",
            "           0       0.95      0.99      0.97       427\n",
            "           1       0.99      0.95      0.97       428\n",
            "\n",
            "    accuracy                           0.97       855\n",
            "   macro avg       0.97      0.97      0.97       855\n",
            "weighted avg       0.97      0.97      0.97       855\n",
            "\n",
            "\n",
            "Confusion Matrix:\n",
            "[[421   6]\n",
            " [ 21 407]]\n"
          ]
        }
      ]
    },
    {
      "cell_type": "code",
      "source": [
        "import matplotlib.pyplot as plt\n",
        "\n",
        "def plot_training_history(history):\n",
        "    # Plot accuracy\n",
        "    plt.figure(figsize=(12, 4))\n",
        "\n",
        "    plt.subplot(1, 2, 1)\n",
        "    plt.plot(history.history['accuracy'])\n",
        "    plt.plot(history.history['val_accuracy'])\n",
        "    plt.title('Model accuracy')\n",
        "    plt.ylabel('Accuracy')\n",
        "    plt.xlabel('Epoch')\n",
        "    plt.legend(['Train', 'Validation'], loc='upper left')\n",
        "\n",
        "    # Plot loss\n",
        "    plt.subplot(1, 2, 2)\n",
        "    plt.plot(history.history['loss'])\n",
        "    plt.plot(history.history['val_loss'])\n",
        "    plt.title('Model loss')\n",
        "    plt.ylabel('Loss')\n",
        "    plt.xlabel('Epoch')\n",
        "    plt.legend(['Train', 'Validation'], loc='upper left')\n",
        "\n",
        "    plt.tight_layout()\n",
        "    plt.show()\n",
        "\n",
        "plot_training_history(history)"
      ],
      "metadata": {
        "colab": {
          "base_uri": "https://localhost:8080/",
          "height": 361
        },
        "id": "beDN6ee3U_nW",
        "outputId": "462db7cb-1c37-412c-ab84-2e0947db118e"
      },
      "execution_count": null,
      "outputs": [
        {
          "output_type": "display_data",
          "data": {
            "text/plain": [
              "<Figure size 1200x400 with 2 Axes>"
            ],
            "image/png": "[encoded data removed]"
          },
          "metadata": {}
        }
      ]
    },
    {
      "cell_type": "code",
      "source": [
        "# Simpan model\n",
        "model.save('gambling_detection_model_new_balanced.h5')\n",
        "\n",
        "# Simpan tokenizer\n",
        "import pickle\n",
        "with open('tokenizer_new_balanced.pickle', 'wb') as handle:\n",
        "    pickle.dump(tokenizer, handle)\n",
        "\n",
        "print(\"Model dan tokenizer berhasil disimpan!\")"
      ],
      "metadata": {
        "colab": {
          "base_uri": "https://localhost:8080/"
        },
        "id": "j-jwMepJVFPY",
        "outputId": "234ae21c-bca3-49d4-c192-10f4aad1b1fa"
      },
      "execution_count": null,
      "outputs": [
        {
          "output_type": "stream",
          "name": "stderr",
          "text": [
            "WARNING:absl:You are saving your model as an HDF5 file via `model.save()` or `keras.saving.save_model(model)`. This file format is considered legacy. We recommend using instead the native Keras format, e.g. `model.save('my_model.keras')` or `keras.saving.save_model(model, 'my_model.keras')`. \n"
          ]
        },
        {
          "output_type": "stream",
          "name": "stdout",
          "text": [
            "Model dan tokenizer berhasil disimpan!\n"
          ]
        }
      ]
    },
    {
      "cell_type": "code",
      "source": [
        "def predict_text(text):\n",
        "    # Preprocessing\n",
        "    # Gunakan preprocessing yang sama dengan data training\n",
        "\n",
        "    # Tokenisasi dan padding\n",
        "    sequence = tokenizer.texts_to_sequences([text])\n",
        "    padded = pad_sequences(sequence, maxlen=maxlen)\n",
        "\n",
        "    # Prediksi\n",
        "    prediction = model.predict(padded)[0][0]\n",
        "\n",
        "    return {\n",
        "        'text': text,\n",
        "        'probability': float(prediction),\n",
        "        'prediction': 'Judi Online' if prediction > 0.5 else 'Bukan Judi Online'\n",
        "    }\n",
        "\n",
        "# Contoh penggunaan\n",
        "# test_text = \"kominfo melakukan pemblokiran website judi online\" #hasilnya bukan\n",
        "# test_text = \"pemerintah indonesia melakukan pemblokiran terhadap 2000 website judi online\" # hasilnya bukan\n",
        "# test_test = \"pemerintah berhasil indonesia melakukan pemblokiran terhadap 2 juta website judi online\" #hasilnya bukan\n",
        "# test_text = \"website resmi di indonesia dijamin maxwin\"\n",
        "# test_text = \"website resmi di indonesia dijamin menang\"\n",
        "test_text = \"Sekolah Tinggi Manajemen Informatika & Komputer (STMIK Bandung) Sekolah Tinggi Manajemen Informatika & Komputer (STMIK Bandung)\"\n",
        "result = predict_text(test_text)\n",
        "print(\"\\nHasil Prediksi:\")\n",
        "print(f\"Teks: {result['text']}\")\n",
        "print(f\"Probabilitas: {result['probability']:.4f}\")\n",
        "print(f\"Prediksi: {result['prediction']}\")"
      ],
      "metadata": {
        "colab": {
          "base_uri": "https://localhost:8080/"
        },
        "id": "lMeAlK-PVnw3",
        "outputId": "f715c610-26a7-457e-d48c-c9c83c491f00"
      },
      "execution_count": null,
      "outputs": [
        {
          "output_type": "stream",
          "name": "stdout",
          "text": [
            "\u001b[1m1/1\u001b[0m \u001b[32m━━━━━━━━━━━━━━━━━━━━\u001b[0m\u001b[37m\u001b[0m \u001b[1m0s\u001b[0m 21ms/step\n",
            "\n",
            "Hasil Prediksi:\n",
            "Teks: Sekolah Tinggi Manajemen Informatika & Komputer (STMIK Bandung) Sekolah Tinggi Manajemen Informatika & Komputer (STMIK Bandung)\n",
            "Probabilitas: 0.0044\n",
            "Prediksi: Bukan Judi Online\n"
          ]
        }
      ]
    },
    {
      "cell_type": "code",
      "source": [],
      "metadata": {
        "id": "O8TEHentVtCz"
      },
      "execution_count": null,
      "outputs": []
    }
  ]
}